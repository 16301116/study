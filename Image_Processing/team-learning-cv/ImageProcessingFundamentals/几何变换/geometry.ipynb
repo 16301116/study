{
 "cells": [
  {
   "cell_type": "code",
   "execution_count": null,
   "source": [
    "import cv2\r\n",
    "import numpy as np\r\n",
    "from matplotlib import pyplot as plt"
   ],
   "outputs": [],
   "metadata": {}
  },
  {
   "cell_type": "code",
   "execution_count": null,
   "source": [
    "img = cv2.imread('sailimuhu.jpg',1)\r\n",
    "rows,cols,channel = img.shape\r\n",
    "\r\n",
    "print(rows,cols,channel)"
   ],
   "outputs": [],
   "metadata": {}
  },
  {
   "cell_type": "code",
   "execution_count": null,
   "source": [
    "M1 = np.float32([[1,0,100],[0,1,50]])\r\n",
    "print(M1)\r\n",
    "res1 = cv2.warpAffine(img,M1,(cols,rows))"
   ],
   "outputs": [],
   "metadata": {}
  },
  {
   "cell_type": "code",
   "execution_count": null,
   "source": [
    "M2 = cv2.getRotationMatrix2D((cols/2,rows/2),90,1)\r\n",
    "print(M2)\r\n",
    "res2 = cv2.warpAffine(img,M2,(cols,rows))"
   ],
   "outputs": [],
   "metadata": {}
  },
  {
   "cell_type": "code",
   "execution_count": 7,
   "source": [
    "cv2.imshow('img',img)\r\n",
    "cv2.imshow('img_res1',res1)\r\n",
    "cv2.imshow('img_res2',res2)\r\n",
    "cv2.waitKey(0)\r\n",
    "cv2.destroyAllWindows()"
   ],
   "outputs": [
    {
     "output_type": "error",
     "ename": "KeyboardInterrupt",
     "evalue": "",
     "traceback": [
      "\u001b[1;31m---------------------------------------------------------------------------\u001b[0m",
      "\u001b[1;31mKeyboardInterrupt\u001b[0m                         Traceback (most recent call last)",
      "\u001b[1;32m~\\AppData\\Local\\Temp/ipykernel_6476/3212803650.py\u001b[0m in \u001b[0;36m<module>\u001b[1;34m\u001b[0m\n\u001b[0;32m      2\u001b[0m \u001b[0mcv2\u001b[0m\u001b[1;33m.\u001b[0m\u001b[0mimshow\u001b[0m\u001b[1;33m(\u001b[0m\u001b[1;34m'img_res1'\u001b[0m\u001b[1;33m,\u001b[0m\u001b[0mres1\u001b[0m\u001b[1;33m)\u001b[0m\u001b[1;33m\u001b[0m\u001b[1;33m\u001b[0m\u001b[0m\n\u001b[0;32m      3\u001b[0m \u001b[0mcv2\u001b[0m\u001b[1;33m.\u001b[0m\u001b[0mimshow\u001b[0m\u001b[1;33m(\u001b[0m\u001b[1;34m'img_res2'\u001b[0m\u001b[1;33m,\u001b[0m\u001b[0mres2\u001b[0m\u001b[1;33m)\u001b[0m\u001b[1;33m\u001b[0m\u001b[1;33m\u001b[0m\u001b[0m\n\u001b[1;32m----> 4\u001b[1;33m \u001b[0mcv2\u001b[0m\u001b[1;33m.\u001b[0m\u001b[0mwaitKey\u001b[0m\u001b[1;33m(\u001b[0m\u001b[1;36m0\u001b[0m\u001b[1;33m)\u001b[0m\u001b[1;33m\u001b[0m\u001b[1;33m\u001b[0m\u001b[0m\n\u001b[0m\u001b[0;32m      5\u001b[0m \u001b[0mcv2\u001b[0m\u001b[1;33m.\u001b[0m\u001b[0mdestroyAllWindows\u001b[0m\u001b[1;33m(\u001b[0m\u001b[1;33m)\u001b[0m\u001b[1;33m\u001b[0m\u001b[1;33m\u001b[0m\u001b[0m\n",
      "\u001b[1;31mKeyboardInterrupt\u001b[0m: "
     ]
    }
   ],
   "metadata": {}
  },
  {
   "cell_type": "code",
   "execution_count": null,
   "source": [
    "pts1 = np.float32([[50,50],[200,50],[50,200]])\r\n",
    "pts2 = np.float32([[10,100],[200,50],[100,250]])\r\n",
    "\r\n",
    "M3 = cv2.getAffineTransform(pts1,pts2)\r\n",
    "print(M3)\r\n",
    "res3 = cv2.warpAffine(img,M3,(cols,rows))\r\n",
    "\r\n",
    "plt.subplot(121),plt.imshow(img),plt.title('Input')\r\n",
    "plt.subplot(122),plt.imshow(res3),plt.title('Output')\r\n",
    "plt.show()"
   ],
   "outputs": [],
   "metadata": {}
  },
  {
   "cell_type": "code",
   "execution_count": null,
   "source": [
    "pts3 = np.float32([[56,65],[368,52],[28,387],[389,390]])\r\n",
    "pts4 = np.float32([[0,0],[300,0],[0,300],[300,300]])\r\n",
    "\r\n",
    "M4 = cv2.getPerspectiveTransform(pts3,pts4)\r\n",
    "print(M4)\r\n",
    "res4 = cv2.warpPerspective(img,M4,(300,300))\r\n",
    "\r\n",
    "plt.subplot(121),plt.imshow(img),plt.title('Input')\r\n",
    "plt.subplot(122),plt.imshow(res4),plt.title('Output')\r\n",
    "plt.show\r\n",
    "\r\n"
   ],
   "outputs": [],
   "metadata": {}
  }
 ],
 "metadata": {
  "orig_nbformat": 4,
  "language_info": {
   "name": "python",
   "version": "3.7.11",
   "mimetype": "text/x-python",
   "codemirror_mode": {
    "name": "ipython",
    "version": 3
   },
   "pygments_lexer": "ipython3",
   "nbconvert_exporter": "python",
   "file_extension": ".py"
  },
  "kernelspec": {
   "name": "python3",
   "display_name": "Python 3.7.11 64-bit ('tensorflow2': conda)"
  },
  "interpreter": {
   "hash": "8d451819d5b1abc6c1ce733586c4f983715ced4ef2839dcc35db733619242e81"
  }
 },
 "nbformat": 4,
 "nbformat_minor": 2
}