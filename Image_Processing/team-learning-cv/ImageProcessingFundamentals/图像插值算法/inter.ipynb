{
 "cells": [
  {
   "cell_type": "code",
   "execution_count": 1,
   "source": [
    "import cv2"
   ],
   "outputs": [],
   "metadata": {}
  },
  {
   "cell_type": "code",
   "execution_count": 2,
   "source": [
    "if __name__ == \"__main__\":\r\n",
    "    # img = cv2.imread('F:/Image_Processing/team-learning-cv/ImageProcessingFundamentals/Image_interpolation/yuner.jpg',cv2.IMREAD_UNCHANGED)\r\n",
    "    img = cv2.imread('yuner.jpg',cv2.IMREAD_UNCHANGED)\r\n",
    "    print('Original Dimensions : ',img.shape)"
   ],
   "outputs": [
    {
     "output_type": "stream",
     "name": "stdout",
     "text": [
      "Original Dimensions :  (768, 1366, 3)\n"
     ]
    }
   ],
   "metadata": {}
  },
  {
   "cell_type": "code",
   "execution_count": 3,
   "source": [
    "    scale_percent = 30       # percent of original size\r\n",
    "    width = int(img.shape[1] * scale_percent / 100)\r\n",
    "    height = int(img.shape[0] * scale_percent / 100)\r\n",
    "    dim = (width, height)"
   ],
   "outputs": [],
   "metadata": {}
  },
  {
   "cell_type": "code",
   "execution_count": 4,
   "source": [
    "    #resize image\r\n",
    "    resized = cv2.resize(img,dim, interpolation = cv2.INTER_LINEAR)\r\n",
    "\r\n",
    "    fx=1.5\r\n",
    "    fy=1.5\r\n",
    "\r\n",
    "    resized1 = cv2.resize(resized, dsize=None, fx=fx, fy=fy, interpolation = cv2.INTER_NEAREST)\r\n",
    "   \r\n",
    "    resized2 = cv2.resize(resized, dsize=None, fx=fx, fy=fy, interpolation = cv2.INTER_LINEAR)"
   ],
   "outputs": [],
   "metadata": {}
  },
  {
   "cell_type": "code",
   "execution_count": 5,
   "source": [
    "    print('Resized DImensions : ',resized.shape)"
   ],
   "outputs": [
    {
     "output_type": "stream",
     "name": "stdout",
     "text": [
      "Resized DImensions :  (230, 409, 3)\n"
     ]
    }
   ],
   "metadata": {}
  },
  {
   "cell_type": "code",
   "execution_count": 6,
   "source": [
    "    cv2.imshow(\"Resized image\", resized)\r\n",
    "    cv2.imshow(\"INTER_NEAREST image\", resized1)\r\n",
    "    cv2.imshow(\"INTER_LINEAR image\", resized2)\r\n",
    "    cv2.waitKey(0)\r\n",
    "    cv2.destroyAllWindows()    "
   ],
   "outputs": [],
   "metadata": {}
  }
 ],
 "metadata": {
  "orig_nbformat": 4,
  "language_info": {
   "name": "python",
   "version": "3.7.11",
   "mimetype": "text/x-python",
   "codemirror_mode": {
    "name": "ipython",
    "version": 3
   },
   "pygments_lexer": "ipython3",
   "nbconvert_exporter": "python",
   "file_extension": ".py"
  },
  "kernelspec": {
   "name": "python3",
   "display_name": "Python 3.7.11 64-bit ('tensorflow2': conda)"
  },
  "interpreter": {
   "hash": "8d451819d5b1abc6c1ce733586c4f983715ced4ef2839dcc35db733619242e81"
  }
 },
 "nbformat": 4,
 "nbformat_minor": 2
}